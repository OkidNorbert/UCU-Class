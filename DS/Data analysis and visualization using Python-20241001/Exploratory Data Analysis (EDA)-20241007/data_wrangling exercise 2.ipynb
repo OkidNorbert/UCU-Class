{
  "cells": [
    {
      "cell_type": "markdown",
      "metadata": {},
      "source": [
        "ROOM 8\n",
        "OKIDI NORBERT S23B23/051\n",
        "LAKICA LETICIA M23B23/023\n",
        "NAJJUMA TEOPISTA S23B23/041\n",
        "NICHOLAS WANGOBI M23B23/031\n",
        "MUKAMA JOSEPH S23B23/036\n"
      ]
    },
    {
      "cell_type": "markdown",
      "metadata": {},
      "source": [
        "# **Hands-on Practice Lab: Data Wrangling**\n",
        "\n",
        "\n",
        "In this lab, you will use the skills acquired in data wrangling & pre-processing and address the issues of handling missing data, correct the data type of the dataframe attribute and execute the processes of data standardization and data normalization on specific attributes of the dataset.\n"
      ]
    },
    {
      "cell_type": "markdown",
      "metadata": {},
      "source": [
        "# Objectives\n",
        "\n",
        "After completing this lab you will be able to:\n",
        "\n",
        " - Handle missing data in different ways\n",
        " - Correct the data type of different data values as per requirement\n",
        " - Standardize and normalize the appropriate data attributes\n",
        " - Visualize the data as grouped bar graph using Binning\n",
        " - Converting a categorical data into numerical indicator variables\n"
      ]
    },
    {
      "cell_type": "markdown",
      "metadata": {},
      "source": [
        "# Setup\n"
      ]
    },
    {
      "cell_type": "markdown",
      "metadata": {},
      "source": [
        "For this lab, we will be using the following libraries:\n",
        "\n",
        "* `skillsnetwork` to download the dataset\n",
        "*   [`pandas`](https://pandas.pydata.org/?utm_medium=Exinfluencer&utm_source=Exinfluencer&utm_content=000026UJ&utm_term=10006555&utm_id=NA-SkillsNetwork-Channel-SkillsNetworkCoursesIBMML0187ENSkillsNetwork31430127-2021-01-01) for managing the data.\n",
        "*   [`numpy`](https://numpy.org/?utm_medium=Exinfluencer&utm_source=Exinfluencer&utm_content=000026UJ&utm_term=10006555&utm_id=NA-SkillsNetwork-Channel-SkillsNetworkCoursesIBMML0187ENSkillsNetwork31430127-2021-01-01) for mathematical operations.\n",
        "*   [`matplotlib`](https://matplotlib.org/?utm_medium=Exinfluencer&utm_source=Exinfluencer&utm_content=000026UJ&utm_term=10006555&utm_id=NA-SkillsNetwork-Channel-SkillsNetworkCoursesIBMML0187ENSkillsNetwork31430127-2021-01-01) for additional plotting tools.\n"
      ]
    },
    {
      "cell_type": "markdown",
      "metadata": {},
      "source": []
    },
    {
      "cell_type": "markdown",
      "metadata": {},
      "source": [
        "### Importing Required Libraries\n",
        "\n",
        "_recommended that you import all required libraries in one place:_\n"
      ]
    },
    {
      "cell_type": "code",
      "execution_count": 1,
      "metadata": {},
      "outputs": [],
      "source": [
        "import numpy as np\n",
        "import pandas as pd\n",
        "import matplotlib.pyplot as plt\n",
        "%matplotlib inline"
      ]
    },
    {
      "cell_type": "code",
      "execution_count": 4,
      "metadata": {},
      "outputs": [],
      "source": [
        "file_path= \"https://cf-courses-data.s3.us.cloud-object-storage.appdomain.cloud/IBMDeveloperSkillsNetwork-DA0101EN-Coursera/laptop_pricing_dataset_mod1.csv\""
      ]
    },
    {
      "cell_type": "code",
      "execution_count": 1,
      "metadata": {},
      "outputs": [
        {
          "ename": "NameError",
          "evalue": "name 'pd' is not defined",
          "output_type": "error",
          "traceback": [
            "\u001b[0;31m---------------------------------------------------------------------------\u001b[0m",
            "\u001b[0;31mNameError\u001b[0m                                 Traceback (most recent call last)",
            "Cell \u001b[0;32mIn[1], line 1\u001b[0m\n\u001b[0;32m----> 1\u001b[0m room8 \u001b[38;5;241m=\u001b[39m \u001b[43mpd\u001b[49m\u001b[38;5;241m.\u001b[39mread_csv(file_path)\n\u001b[1;32m      2\u001b[0m room8\u001b[38;5;241m.\u001b[39mhead()\n",
            "\u001b[0;31mNameError\u001b[0m: name 'pd' is not defined"
          ]
        }
      ],
      "source": [
        "room8 = pd.read_csv(file_path)\n",
        "room8.head()"
      ]
    },
    {
      "cell_type": "markdown",
      "metadata": {},
      "source": [
        "First we load data into a `pandas.DataFrame`:\n"
      ]
    },
    {
      "cell_type": "code",
      "execution_count": 40,
      "metadata": {},
      "outputs": [
        {
          "data": {
            "text/html": [
              "<div>\n",
              "<style scoped>\n",
              "    .dataframe tbody tr th:only-of-type {\n",
              "        vertical-align: middle;\n",
              "    }\n",
              "\n",
              "    .dataframe tbody tr th {\n",
              "        vertical-align: top;\n",
              "    }\n",
              "\n",
              "    .dataframe thead th {\n",
              "        text-align: right;\n",
              "    }\n",
              "</style>\n",
              "<table border=\"1\" class=\"dataframe\">\n",
              "  <thead>\n",
              "    <tr style=\"text-align: right;\">\n",
              "      <th></th>\n",
              "      <th>Unnamed: 0</th>\n",
              "      <th>Manufacturer</th>\n",
              "      <th>Category</th>\n",
              "      <th>Screen</th>\n",
              "      <th>GPU</th>\n",
              "      <th>OS</th>\n",
              "      <th>CPU_core</th>\n",
              "      <th>Screen_Size_cm</th>\n",
              "      <th>CPU_frequency</th>\n",
              "      <th>RAM_GB</th>\n",
              "      <th>Storage_GB_SSD</th>\n",
              "      <th>Weight_kg</th>\n",
              "      <th>Price</th>\n",
              "    </tr>\n",
              "  </thead>\n",
              "  <tbody>\n",
              "    <tr>\n",
              "      <th>0</th>\n",
              "      <td>0</td>\n",
              "      <td>Acer</td>\n",
              "      <td>4</td>\n",
              "      <td>IPS Panel</td>\n",
              "      <td>2</td>\n",
              "      <td>1</td>\n",
              "      <td>5</td>\n",
              "      <td>35.560</td>\n",
              "      <td>1.6</td>\n",
              "      <td>8</td>\n",
              "      <td>256</td>\n",
              "      <td>1.60</td>\n",
              "      <td>978</td>\n",
              "    </tr>\n",
              "    <tr>\n",
              "      <th>1</th>\n",
              "      <td>1</td>\n",
              "      <td>Dell</td>\n",
              "      <td>3</td>\n",
              "      <td>Full HD</td>\n",
              "      <td>1</td>\n",
              "      <td>1</td>\n",
              "      <td>3</td>\n",
              "      <td>39.624</td>\n",
              "      <td>2.0</td>\n",
              "      <td>4</td>\n",
              "      <td>256</td>\n",
              "      <td>2.20</td>\n",
              "      <td>634</td>\n",
              "    </tr>\n",
              "    <tr>\n",
              "      <th>2</th>\n",
              "      <td>2</td>\n",
              "      <td>Dell</td>\n",
              "      <td>3</td>\n",
              "      <td>Full HD</td>\n",
              "      <td>1</td>\n",
              "      <td>1</td>\n",
              "      <td>7</td>\n",
              "      <td>39.624</td>\n",
              "      <td>2.7</td>\n",
              "      <td>8</td>\n",
              "      <td>256</td>\n",
              "      <td>2.20</td>\n",
              "      <td>946</td>\n",
              "    </tr>\n",
              "    <tr>\n",
              "      <th>3</th>\n",
              "      <td>3</td>\n",
              "      <td>Dell</td>\n",
              "      <td>4</td>\n",
              "      <td>IPS Panel</td>\n",
              "      <td>2</td>\n",
              "      <td>1</td>\n",
              "      <td>5</td>\n",
              "      <td>33.782</td>\n",
              "      <td>1.6</td>\n",
              "      <td>8</td>\n",
              "      <td>128</td>\n",
              "      <td>1.22</td>\n",
              "      <td>1244</td>\n",
              "    </tr>\n",
              "    <tr>\n",
              "      <th>4</th>\n",
              "      <td>4</td>\n",
              "      <td>HP</td>\n",
              "      <td>4</td>\n",
              "      <td>Full HD</td>\n",
              "      <td>2</td>\n",
              "      <td>1</td>\n",
              "      <td>7</td>\n",
              "      <td>39.624</td>\n",
              "      <td>1.8</td>\n",
              "      <td>8</td>\n",
              "      <td>256</td>\n",
              "      <td>1.91</td>\n",
              "      <td>837</td>\n",
              "    </tr>\n",
              "  </tbody>\n",
              "</table>\n",
              "</div>"
            ],
            "text/plain": [
              "   Unnamed: 0 Manufacturer  Category     Screen  GPU  OS  CPU_core  \\\n",
              "0           0         Acer         4  IPS Panel    2   1         5   \n",
              "1           1         Dell         3    Full HD    1   1         3   \n",
              "2           2         Dell         3    Full HD    1   1         7   \n",
              "3           3         Dell         4  IPS Panel    2   1         5   \n",
              "4           4           HP         4    Full HD    2   1         7   \n",
              "\n",
              "   Screen_Size_cm  CPU_frequency  RAM_GB  Storage_GB_SSD  Weight_kg  Price  \n",
              "0          35.560            1.6       8             256       1.60    978  \n",
              "1          39.624            2.0       4             256       2.20    634  \n",
              "2          39.624            2.7       8             256       2.20    946  \n",
              "3          33.782            1.6       8             128       1.22   1244  \n",
              "4          39.624            1.8       8             256       1.91    837  "
            ]
          },
          "execution_count": 40,
          "metadata": {},
          "output_type": "execute_result"
        }
      ],
      "source": [
        "room8 = pd.read_csv(file_path, header=0)\n",
        "room8.head()"
      ]
    },
    {
      "cell_type": "code",
      "execution_count": 10,
      "metadata": {},
      "outputs": [],
      "source": [
        "#filepath = \"https://cf-courses-data.s3.us.cloud-object-storage.appdomain.cloud/IBMDeveloperSkillsNetwork-DA0101EN-Coursera/laptop_pricing_dataset_mod1.csv\"\n",
        "#room8 = room8.read_csv(filepath, header=None)"
      ]
    },
    {
      "cell_type": "markdown",
      "metadata": {},
      "source": [
        "Verify loading by displaying the dataframe summary using `dataframe.info()`\n"
      ]
    },
    {
      "cell_type": "code",
      "execution_count": 6,
      "metadata": {},
      "outputs": [
        {
          "name": "stdout",
          "output_type": "stream",
          "text": [
            "<class 'pandas.core.frame.DataFrame'>\n",
            "RangeIndex: 238 entries, 0 to 237\n",
            "Data columns (total 13 columns):\n",
            " #   Column          Non-Null Count  Dtype  \n",
            "---  ------          --------------  -----  \n",
            " 0   Unnamed: 0      238 non-null    int64  \n",
            " 1   Manufacturer    238 non-null    object \n",
            " 2   Category        238 non-null    int64  \n",
            " 3   Screen          238 non-null    object \n",
            " 4   GPU             238 non-null    int64  \n",
            " 5   OS              238 non-null    int64  \n",
            " 6   CPU_core        238 non-null    int64  \n",
            " 7   Screen_Size_cm  234 non-null    float64\n",
            " 8   CPU_frequency   238 non-null    float64\n",
            " 9   RAM_GB          238 non-null    int64  \n",
            " 10  Storage_GB_SSD  238 non-null    int64  \n",
            " 11  Weight_kg       233 non-null    float64\n",
            " 12  Price           238 non-null    int64  \n",
            "dtypes: float64(3), int64(8), object(2)\n",
            "memory usage: 24.3+ KB\n",
            "None\n"
          ]
        }
      ],
      "source": [
        "print(room8.info())"
      ]
    },
    {
      "cell_type": "markdown",
      "metadata": {},
      "source": [
        "View the first 5 values of the updated dataframe using `dataframe.head()`\n"
      ]
    },
    {
      "cell_type": "code",
      "execution_count": 12,
      "metadata": {},
      "outputs": [
        {
          "data": {
            "text/html": [
              "<div>\n",
              "<style scoped>\n",
              "    .dataframe tbody tr th:only-of-type {\n",
              "        vertical-align: middle;\n",
              "    }\n",
              "\n",
              "    .dataframe tbody tr th {\n",
              "        vertical-align: top;\n",
              "    }\n",
              "\n",
              "    .dataframe thead th {\n",
              "        text-align: right;\n",
              "    }\n",
              "</style>\n",
              "<table border=\"1\" class=\"dataframe\">\n",
              "  <thead>\n",
              "    <tr style=\"text-align: right;\">\n",
              "      <th></th>\n",
              "      <th>Unnamed: 0</th>\n",
              "      <th>Manufacturer</th>\n",
              "      <th>Category</th>\n",
              "      <th>Screen</th>\n",
              "      <th>GPU</th>\n",
              "      <th>OS</th>\n",
              "      <th>CPU_core</th>\n",
              "      <th>Screen_Size_cm</th>\n",
              "      <th>CPU_frequency</th>\n",
              "      <th>RAM_GB</th>\n",
              "      <th>Storage_GB_SSD</th>\n",
              "      <th>Weight_kg</th>\n",
              "      <th>Price</th>\n",
              "    </tr>\n",
              "  </thead>\n",
              "  <tbody>\n",
              "    <tr>\n",
              "      <th>0</th>\n",
              "      <td>0</td>\n",
              "      <td>Acer</td>\n",
              "      <td>4</td>\n",
              "      <td>IPS Panel</td>\n",
              "      <td>2</td>\n",
              "      <td>1</td>\n",
              "      <td>5</td>\n",
              "      <td>35.560</td>\n",
              "      <td>1.6</td>\n",
              "      <td>8</td>\n",
              "      <td>256</td>\n",
              "      <td>1.60</td>\n",
              "      <td>978</td>\n",
              "    </tr>\n",
              "    <tr>\n",
              "      <th>1</th>\n",
              "      <td>1</td>\n",
              "      <td>Dell</td>\n",
              "      <td>3</td>\n",
              "      <td>Full HD</td>\n",
              "      <td>1</td>\n",
              "      <td>1</td>\n",
              "      <td>3</td>\n",
              "      <td>39.624</td>\n",
              "      <td>2.0</td>\n",
              "      <td>4</td>\n",
              "      <td>256</td>\n",
              "      <td>2.20</td>\n",
              "      <td>634</td>\n",
              "    </tr>\n",
              "    <tr>\n",
              "      <th>2</th>\n",
              "      <td>2</td>\n",
              "      <td>Dell</td>\n",
              "      <td>3</td>\n",
              "      <td>Full HD</td>\n",
              "      <td>1</td>\n",
              "      <td>1</td>\n",
              "      <td>7</td>\n",
              "      <td>39.624</td>\n",
              "      <td>2.7</td>\n",
              "      <td>8</td>\n",
              "      <td>256</td>\n",
              "      <td>2.20</td>\n",
              "      <td>946</td>\n",
              "    </tr>\n",
              "    <tr>\n",
              "      <th>3</th>\n",
              "      <td>3</td>\n",
              "      <td>Dell</td>\n",
              "      <td>4</td>\n",
              "      <td>IPS Panel</td>\n",
              "      <td>2</td>\n",
              "      <td>1</td>\n",
              "      <td>5</td>\n",
              "      <td>33.782</td>\n",
              "      <td>1.6</td>\n",
              "      <td>8</td>\n",
              "      <td>128</td>\n",
              "      <td>1.22</td>\n",
              "      <td>1244</td>\n",
              "    </tr>\n",
              "    <tr>\n",
              "      <th>4</th>\n",
              "      <td>4</td>\n",
              "      <td>HP</td>\n",
              "      <td>4</td>\n",
              "      <td>Full HD</td>\n",
              "      <td>2</td>\n",
              "      <td>1</td>\n",
              "      <td>7</td>\n",
              "      <td>39.624</td>\n",
              "      <td>1.8</td>\n",
              "      <td>8</td>\n",
              "      <td>256</td>\n",
              "      <td>1.91</td>\n",
              "      <td>837</td>\n",
              "    </tr>\n",
              "  </tbody>\n",
              "</table>\n",
              "</div>"
            ],
            "text/plain": [
              "   Unnamed: 0 Manufacturer  Category     Screen  GPU  OS  CPU_core  \\\n",
              "0           0         Acer         4  IPS Panel    2   1         5   \n",
              "1           1         Dell         3    Full HD    1   1         3   \n",
              "2           2         Dell         3    Full HD    1   1         7   \n",
              "3           3         Dell         4  IPS Panel    2   1         5   \n",
              "4           4           HP         4    Full HD    2   1         7   \n",
              "\n",
              "   Screen_Size_cm  CPU_frequency  RAM_GB  Storage_GB_SSD  Weight_kg  Price  \n",
              "0          35.560            1.6       8             256       1.60    978  \n",
              "1          39.624            2.0       4             256       2.20    634  \n",
              "2          39.624            2.7       8             256       2.20    946  \n",
              "3          33.782            1.6       8             128       1.22   1244  \n",
              "4          39.624            1.8       8             256       1.91    837  "
            ]
          },
          "execution_count": 12,
          "metadata": {},
          "output_type": "execute_result"
        }
      ],
      "source": [
        "room8.head()"
      ]
    },
    {
      "cell_type": "markdown",
      "metadata": {},
      "source": [
        "Note that we can update the `Screen_Size_cm` column such that all values are rounded to nearest 2 decimal places by using `numpy.round()`\n"
      ]
    },
    {
      "cell_type": "code",
      "execution_count": 13,
      "metadata": {},
      "outputs": [
        {
          "data": {
            "text/html": [
              "<div>\n",
              "<style scoped>\n",
              "    .dataframe tbody tr th:only-of-type {\n",
              "        vertical-align: middle;\n",
              "    }\n",
              "\n",
              "    .dataframe tbody tr th {\n",
              "        vertical-align: top;\n",
              "    }\n",
              "\n",
              "    .dataframe thead th {\n",
              "        text-align: right;\n",
              "    }\n",
              "</style>\n",
              "<table border=\"1\" class=\"dataframe\">\n",
              "  <thead>\n",
              "    <tr style=\"text-align: right;\">\n",
              "      <th></th>\n",
              "      <th>Unnamed: 0</th>\n",
              "      <th>Manufacturer</th>\n",
              "      <th>Category</th>\n",
              "      <th>Screen</th>\n",
              "      <th>GPU</th>\n",
              "      <th>OS</th>\n",
              "      <th>CPU_core</th>\n",
              "      <th>Screen_Size_cm</th>\n",
              "      <th>CPU_frequency</th>\n",
              "      <th>RAM_GB</th>\n",
              "      <th>Storage_GB_SSD</th>\n",
              "      <th>Weight_kg</th>\n",
              "      <th>Price</th>\n",
              "    </tr>\n",
              "  </thead>\n",
              "  <tbody>\n",
              "    <tr>\n",
              "      <th>0</th>\n",
              "      <td>0</td>\n",
              "      <td>Acer</td>\n",
              "      <td>4</td>\n",
              "      <td>IPS Panel</td>\n",
              "      <td>2</td>\n",
              "      <td>1</td>\n",
              "      <td>5</td>\n",
              "      <td>35.56</td>\n",
              "      <td>1.6</td>\n",
              "      <td>8</td>\n",
              "      <td>256</td>\n",
              "      <td>1.60</td>\n",
              "      <td>978</td>\n",
              "    </tr>\n",
              "    <tr>\n",
              "      <th>1</th>\n",
              "      <td>1</td>\n",
              "      <td>Dell</td>\n",
              "      <td>3</td>\n",
              "      <td>Full HD</td>\n",
              "      <td>1</td>\n",
              "      <td>1</td>\n",
              "      <td>3</td>\n",
              "      <td>39.62</td>\n",
              "      <td>2.0</td>\n",
              "      <td>4</td>\n",
              "      <td>256</td>\n",
              "      <td>2.20</td>\n",
              "      <td>634</td>\n",
              "    </tr>\n",
              "    <tr>\n",
              "      <th>2</th>\n",
              "      <td>2</td>\n",
              "      <td>Dell</td>\n",
              "      <td>3</td>\n",
              "      <td>Full HD</td>\n",
              "      <td>1</td>\n",
              "      <td>1</td>\n",
              "      <td>7</td>\n",
              "      <td>39.62</td>\n",
              "      <td>2.7</td>\n",
              "      <td>8</td>\n",
              "      <td>256</td>\n",
              "      <td>2.20</td>\n",
              "      <td>946</td>\n",
              "    </tr>\n",
              "    <tr>\n",
              "      <th>3</th>\n",
              "      <td>3</td>\n",
              "      <td>Dell</td>\n",
              "      <td>4</td>\n",
              "      <td>IPS Panel</td>\n",
              "      <td>2</td>\n",
              "      <td>1</td>\n",
              "      <td>5</td>\n",
              "      <td>33.78</td>\n",
              "      <td>1.6</td>\n",
              "      <td>8</td>\n",
              "      <td>128</td>\n",
              "      <td>1.22</td>\n",
              "      <td>1244</td>\n",
              "    </tr>\n",
              "    <tr>\n",
              "      <th>4</th>\n",
              "      <td>4</td>\n",
              "      <td>HP</td>\n",
              "      <td>4</td>\n",
              "      <td>Full HD</td>\n",
              "      <td>2</td>\n",
              "      <td>1</td>\n",
              "      <td>7</td>\n",
              "      <td>39.62</td>\n",
              "      <td>1.8</td>\n",
              "      <td>8</td>\n",
              "      <td>256</td>\n",
              "      <td>1.91</td>\n",
              "      <td>837</td>\n",
              "    </tr>\n",
              "  </tbody>\n",
              "</table>\n",
              "</div>"
            ],
            "text/plain": [
              "   Unnamed: 0 Manufacturer  Category     Screen  GPU  OS  CPU_core  \\\n",
              "0           0         Acer         4  IPS Panel    2   1         5   \n",
              "1           1         Dell         3    Full HD    1   1         3   \n",
              "2           2         Dell         3    Full HD    1   1         7   \n",
              "3           3         Dell         4  IPS Panel    2   1         5   \n",
              "4           4           HP         4    Full HD    2   1         7   \n",
              "\n",
              "   Screen_Size_cm  CPU_frequency  RAM_GB  Storage_GB_SSD  Weight_kg  Price  \n",
              "0           35.56            1.6       8             256       1.60    978  \n",
              "1           39.62            2.0       4             256       2.20    634  \n",
              "2           39.62            2.7       8             256       2.20    946  \n",
              "3           33.78            1.6       8             128       1.22   1244  \n",
              "4           39.62            1.8       8             256       1.91    837  "
            ]
          },
          "execution_count": 13,
          "metadata": {},
          "output_type": "execute_result"
        }
      ],
      "source": [
        "room8[['Screen_Size_cm']] = np.round(room8[['Screen_Size_cm']],2)\n",
        "room8.head()"
      ]
    },
    {
      "cell_type": "markdown",
      "metadata": {},
      "source": [
        "# Task - 1\n",
        "\n",
        "### Evaluate the dataset for missing data\n",
        "Missing data was last converted from '?' to numpy.NaN. Pandas uses NaN and Null values interchangeably. This means, you can just identify the entries having Null values. Write a code that identifies which columns have missing data. \n"
      ]
    },
    {
      "cell_type": "code",
      "execution_count": 10,
      "metadata": {},
      "outputs": [
        {
          "name": "stdout",
          "output_type": "stream",
          "text": [
            "Screen_Size_cm    4\n",
            "Weight_kg         5\n",
            "dtype: int64\n"
          ]
        }
      ],
      "source": [
        "# Write your code below and press Shift+Enter to execute \n",
        "missing_data = room8.isnull().sum()\n",
        "missing_data = missing_data[missing_data > 0]\n",
        "print(missing_data)"
      ]
    },
    {
      "cell_type": "markdown",
      "metadata": {},
      "source": [
        "# Task - 2\n",
        "\n",
        "### Replace with mean\n",
        "Missing values in attributes that have continuous data are best replaced using Mean value. We note that values in \"Weight_kg\" attribute are continuous in nature, and some values are missing. Therefore, write a code to replace the missing values of weight with the average value of the attribute.\n"
      ]
    },
    {
      "cell_type": "code",
      "execution_count": 31,
      "metadata": {},
      "outputs": [
        {
          "name": "stdout",
          "output_type": "stream",
          "text": [
            "mean_weights: 1.8622317596566522\n"
          ]
        }
      ],
      "source": [
        "# Write your code below and press Shift+Enter to execute\n",
        "mean_weight  = room8[\"Weight_kg\"].astype(\"float\").mean(axis=0)\n",
        "#replaces missing values in weight_kg column with mean \n",
        "print(\"mean_weights:\", mean_weight )\n",
        "room8[\"Weight_kg\"] = room8[\"Weight_kg\"].replace(np.nan, mean_weight)\n"
      ]
    },
    {
      "cell_type": "markdown",
      "metadata": {},
      "source": [
        "### Replace with the most frequent value\n",
        "Missing values in attributes that have categorical data are best replaced using the most frequent value. We note that values in \"Screen_Size_cm\" attribute are categorical in nature, and some values are missing. Therefore, write a code to replace the missing values of Screen Size with the most frequent value of the attribute.\n"
      ]
    },
    {
      "cell_type": "code",
      "execution_count": 32,
      "metadata": {},
      "outputs": [
        {
          "name": "stdout",
          "output_type": "stream",
          "text": [
            "Remaining missing values in 'Screen_Size_cm': 0\n"
          ]
        }
      ],
      "source": [
        "# Write your code below and press Shift+Enter to execute\n",
        "\n",
        "most_frequent_screen_size = room8['Screen_Size_cm'].mode()[0]\n",
        "# Calculate the most frequent value (mode) in the \"Screen_Size_cm\" column\n",
        "\n",
        "room8['Screen_Size_cm'] = room8['Screen_Size_cm'].replace(np.nan, most_frequent_screen_size)\n",
        "# Replace missing values in the \"Screen_Size_cm\" column with the most frequent value\n",
        "\n",
        "print(\"Remaining missing values in 'Screen_Size_cm':\", room8['Screen_Size_cm'].isnull().sum())\n",
        "# Verify that the missing values have been replaced"
      ]
    },
    {
      "cell_type": "markdown",
      "metadata": {},
      "source": [
        "# Task - 3\n",
        "\n",
        "### Fixing the data types\n",
        "Both \"Weight_kg\" and \"Screen_Size_cm\" are seen to have the data type \"Object\", while both of them should be having a data type of \"float\". Write a code to fix the data type of these two columns.\n"
      ]
    },
    {
      "cell_type": "code",
      "execution_count": 33,
      "metadata": {},
      "outputs": [
        {
          "name": "stdout",
          "output_type": "stream",
          "text": [
            "Weight_kg         float64\n",
            "Screen_Size_cm    float64\n",
            "dtype: object\n"
          ]
        }
      ],
      "source": [
        "# Write your code below and press Shift+Enter to execute\n",
        "room8['Weight_kg'] = room8['Weight_kg'].astype(float)  # Convert Weight_kg to float\n",
        "room8['Screen_Size_cm'] = room8['Screen_Size_cm'].astype(float)  # Convert Screen_Size_cm to float\n",
        "\n",
        "\n",
        "print(room8[['Weight_kg', 'Screen_Size_cm']].dtypes)#Verify the changes by checking the data types"
      ]
    },
    {
      "cell_type": "markdown",
      "metadata": {},
      "source": [
        "# Task - 4\n",
        "\n",
        "### Data Standardization\n",
        "The value of Screen_size usually has a standard unit of inches. Similarly, weight of the laptop is needed to be in pounds. Use the below mentioned units of conversion and write a code to modify the columns of the dataframe accordingly. Update their names as well.\n",
        "\n",
        "```{math}\n",
        "1 inch = 2.54 cm\n",
        "1 kg   = 2.205 pounds\n",
        "```\n"
      ]
    },
    {
      "cell_type": "code",
      "execution_count": 34,
      "metadata": {},
      "outputs": [
        {
          "name": "stdout",
          "output_type": "stream",
          "text": [
            "   Screen_Size_in  Weight_lb\n",
            "0            14.0    3.52800\n",
            "1            15.6    4.85100\n",
            "2            15.6    4.85100\n",
            "3            13.3    2.69010\n",
            "4            15.6    4.21155\n"
          ]
        }
      ],
      "source": [
        "# Write your code below and press Shift+Enter to execute\n",
        "room8['Screen_Size_in'] = room8['Screen_Size_cm'] / 2.54 #Convert \"Screen_Size_cm\" to inches and update the column name\n",
        "\n",
        "room8['Weight_lb'] = room8['Weight_kg'] * 2.205 #Convert \"Weight_kg\" to pounds and update the column name\n",
        "\n",
        "print(room8[['Screen_Size_in', 'Weight_lb']].head())#Verify the changes by checking the first few rows of the updated dataframe"
      ]
    },
    {
      "cell_type": "markdown",
      "metadata": {},
      "source": [
        "### Data Normalization\n",
        "Often it is required to normalize a continuous data attribute. Write a code to normalize the \"CPU_frequency\" attribute with respect to the maximum value available in the dataset.\n"
      ]
    },
    {
      "cell_type": "code",
      "execution_count": 35,
      "metadata": {},
      "outputs": [
        {
          "name": "stdout",
          "output_type": "stream",
          "text": [
            "   CPU_frequency  Normalized_CPU_frequency\n",
            "0            1.6                  0.551724\n",
            "1            2.0                  0.689655\n",
            "2            2.7                  0.931034\n",
            "3            1.6                  0.551724\n",
            "4            1.8                  0.620690\n"
          ]
        }
      ],
      "source": [
        "# Write your code below and press Shift+Enter to execute\n",
        "\n",
        "#Normalized Value=Value/Maximum Value\n",
        "\n",
        "#Calculate the maximum value of the CPU_frequency column\n",
        "max_cpu_frequency = room8['CPU_frequency'].max()\n",
        "\n",
        "# Normalize the CPU_frequency column\n",
        "room8['Normalized_CPU_frequency'] = room8['CPU_frequency'] / max_cpu_frequency\n",
        "\n",
        "# Step 3: Verify the changes by checking the first few rows of the updated dataframe\n",
        "print(room8[['CPU_frequency', 'Normalized_CPU_frequency']].head())\n"
      ]
    },
    {
      "cell_type": "markdown",
      "metadata": {},
      "source": [
        "# Task - 5\n",
        "\n",
        "### Binning\n",
        "Binning is a process of creating a categorical attribute which splits the values of a continuous data into a specified number of groups. In this case, write a code to create 3 bins for the attribute \"Price\". These bins would be named \"Low\", \"Medium\" and \"High\". The new attribute will be named \"Price-binned\".\n"
      ]
    },
    {
      "cell_type": "code",
      "execution_count": 45,
      "metadata": {},
      "outputs": [],
      "source": [
        "# Write your code below and press Shift+Enter to execute\n",
        "bins = [0, 800, 1500, float('inf')] \n",
        "labels = ['Low', 'Medium', 'High']\n",
        "room8['Price-binned'] = pd.cut(room8['Price'], bins=bins, labels=labels, right=False)\n",
        "price_counts = room8['Price-binned'].value_counts()"
      ]
    },
    {
      "cell_type": "markdown",
      "metadata": {},
      "source": [
        "Also, plot the bar graph of these bins.\n"
      ]
    },
    {
      "cell_type": "code",
      "execution_count": 52,
      "metadata": {},
      "outputs": [
        {
          "data": {
            "image/png": "[encoded data removed]",
            "text/plain": [
              "<Figure size 800x500 with 1 Axes>"
            ]
          },
          "metadata": {},
          "output_type": "display_data"
        },
        {
          "name": "stdout",
          "output_type": "stream",
          "text": [
            "   Price Price-binned\n",
            "0    978       Medium\n",
            "1    634          Low\n",
            "2    946       Medium\n",
            "3   1244       Medium\n",
            "4    837       Medium\n"
          ]
        }
      ],
      "source": [
        "# Write your code below and press Shift+Enter to execute\n",
        "plt.figure(figsize=(8, 5))\n",
        "price_counts.plot(kind='bar', color='skyblue')\n",
        "plt.title('Price Distribution Bins')\n",
        "plt.xlabel('Price Category')\n",
        "plt.ylabel('Number of Laptops')\n",
        "plt.xticks(rotation=0)\n",
        "plt.grid(axis='y')\n",
        "\n",
        "# Show the plot\n",
        "plt.show()\n",
        "\n",
        "# Step 5: Verify the changes by checking the first few rows of the updated dataframe\n",
        "print(room8[['Price', 'Price-binned']].head())"
      ]
    },
    {
      "cell_type": "markdown",
      "metadata": {},
      "source": [
        "# Task - 6\n",
        "\n",
        "### Indicator variables\n",
        "Convert the \"Screen\" attribute of the dataset into 2 indicator variables, \"Screen-IPS_panel\" and \"Screen-Full_HD\". Then drop the \"Screen\" attribute from the dataset.\n"
      ]
    },
    {
      "cell_type": "code",
      "execution_count": 51,
      "metadata": {},
      "outputs": [],
      "source": [
        "# Write your code below and press Shift+Enter to execute\n",
        "room8['Screen-IPS_panel'] = room8['Screen'].apply(lambda x: 1 if 'IPS' in x else 0)\n",
        "room8['Screen-Full_HD'] = room8['Screen'].apply(lambda x: 1 if 'Full HD' in x else 0)\n",
        "room8.drop('Screen', axis=1, inplace=True)"
      ]
    },
    {
      "cell_type": "markdown",
      "metadata": {},
      "source": [
        "This version of the dataset, now finalized, is the one you'll be using in all subsequent modules. \n"
      ]
    },
    {
      "cell_type": "markdown",
      "metadata": {},
      "source": [
        "Print the content of dataframe.head() to verify the changes that were made to the dataset.\n"
      ]
    },
    {
      "cell_type": "code",
      "execution_count": 50,
      "metadata": {},
      "outputs": [
        {
          "name": "stdout",
          "output_type": "stream",
          "text": [
            "   Unnamed: 0 Manufacturer  Category     Screen  GPU  OS  CPU_core  \\\n",
            "0           0         Acer         4  IPS Panel    2   1         5   \n",
            "1           1         Dell         3    Full HD    1   1         3   \n",
            "2           2         Dell         3    Full HD    1   1         7   \n",
            "3           3         Dell         4  IPS Panel    2   1         5   \n",
            "4           4           HP         4    Full HD    2   1         7   \n",
            "\n",
            "   Screen_Size_cm  CPU_frequency  RAM_GB  Storage_GB_SSD  Weight_kg  Price  \\\n",
            "0          35.560            1.6       8             256       1.60    978   \n",
            "1          39.624            2.0       4             256       2.20    634   \n",
            "2          39.624            2.7       8             256       2.20    946   \n",
            "3          33.782            1.6       8             128       1.22   1244   \n",
            "4          39.624            1.8       8             256       1.91    837   \n",
            "\n",
            "  Price-binned  Screen-IPS_panel  Screen-Full_HD  \n",
            "0       Medium                 1               0  \n",
            "1          Low                 0               1  \n",
            "2       Medium                 0               1  \n",
            "3       Medium                 1               0  \n",
            "4       Medium                 0               1  \n"
          ]
        }
      ],
      "source": [
        "print(room8.head())"
      ]
    },
    {
      "cell_type": "markdown",
      "metadata": {},
      "source": [
        "# END\n",
        "\n",
        "# Thank you for listening"
      ]
    },
    {
      "cell_type": "markdown",
      "metadata": {},
      "source": [
        "<!--## Change Log\n"
      ]
    },
    {
      "cell_type": "markdown",
      "metadata": {},
      "source": [
        "<!--|Date (YYYY-MM-DD)|Version|Changed By|Change Description|\n",
        "|-|-|-|-|\n",
        "|2023-09-15|0.1|Abhishek Gagneja|Initial Version Created|\n",
        "|2023-09-19|0.2|Vicky Kuo|Reviewed and Revised| --!>\n"
      ]
    }
  ],
  "metadata": {
    "kernelspec": {
      "display_name": "Python 3",
      "language": "python",
      "name": "python3"
    },
    "language_info": {
      "codemirror_mode": {
        "name": "ipython",
        "version": 3
      },
      "file_extension": ".py",
      "mimetype": "text/x-python",
      "name": "python",
      "nbconvert_exporter": "python",
      "pygments_lexer": "ipython3",
      "version": "3.11.9"
    },
    "prev_pub_hash": "5e3a8b7ec89f1a235ff15d33d91b7370891c708cfdc79760290db24a4cbd8f1c"
  },
  "nbformat": 4,
  "nbformat_minor": 4
}
